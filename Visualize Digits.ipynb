{
 "cells": [
  {
   "cell_type": "code",
   "execution_count": 2,
   "metadata": {
    "collapsed": true
   },
   "outputs": [],
   "source": [
    "import scipy\n",
    "import matplotlib.pyplot as plt\n",
    "from sklearn import datasets, metrics\n",
    "from sklearn.linear_model import LogisticRegression\n",
    "from sklearn import tree\n",
    "from sklearn.neighbors import KNeighborsClassifier"
   ]
  },
  {
   "cell_type": "code",
   "execution_count": 3,
   "metadata": {
    "collapsed": false
   },
   "outputs": [],
   "source": [
    "#load datasets\n",
    "digits = datasets.load_digits()"
   ]
  },
  {
   "cell_type": "code",
   "execution_count": 4,
   "metadata": {
    "collapsed": false
   },
   "outputs": [
    {
     "data": {
      "text/plain": [
       "['DESCR', 'data', 'images', 'target', 'target_names']"
      ]
     },
     "execution_count": 4,
     "metadata": {},
     "output_type": "execute_result"
    }
   ],
   "source": [
    "#show the directory of data\n",
    "dir(digits)"
   ]
  },
  {
   "cell_type": "code",
   "execution_count": 5,
   "metadata": {
    "collapsed": false
   },
   "outputs": [
    {
     "data": {
      "image/png": "[encoded data removed]",
      "text/plain": [
       "<matplotlib.figure.Figure at 0xb770240>"
      ]
     },
     "metadata": {},
     "output_type": "display_data"
    }
   ],
   "source": [
    "#visualize sample data\n",
    "samples = list(zip(digits.images, digits.target))\n",
    "#print(len(samples))\n",
    "#print(samples[:1])\n",
    "for id,(img,label) in enumerate(samples[:10]):\n",
    "    plt.subplot(2,5,id + 1)\n",
    "    plt.axis(\"off\")\n",
    "    plt.imshow(img, cmap = plt.cm.gray_r, interpolation = \"nearest\" )\n",
    "    plt.title(\"Label %i\" % label)\n",
    "plt.show()"
   ]
  },
  {
   "cell_type": "code",
   "execution_count": 6,
   "metadata": {
    "collapsed": false
   },
   "outputs": [
    {
     "data": {
      "text/plain": [
       "64"
      ]
     },
     "execution_count": 6,
     "metadata": {},
     "output_type": "execute_result"
    }
   ],
   "source": [
    "#reshape the matrix\n",
    "n = len(digits.images)\n",
    "data = digits.images.reshape(n,-1)\n",
    "len(data[0])"
   ]
  },
  {
   "cell_type": "code",
   "execution_count": 7,
   "metadata": {
    "collapsed": false
   },
   "outputs": [],
   "source": [
    "logistic = LogisticRegression()\n",
    "decision_tree = tree.DecisionTreeClassifier()\n",
    "knn = KNeighborsClassifier(n_neighbors=5,weights ='distance')"
   ]
  },
  {
   "cell_type": "code",
   "execution_count": 8,
   "metadata": {
    "collapsed": false
   },
   "outputs": [],
   "source": [
    "# use first half for training\n",
    "train_data = data[:n//2]\n",
    "train_label = digits.target[:n//2]\n",
    "logistic_model = logistic.fit(train_data,train_label)\n",
    "decision_tree_model = decision_tree.fit(train_data,train_label)\n",
    "knn_model = knn.fit(train_data,train_label)"
   ]
  },
  {
   "cell_type": "markdown",
   "metadata": {
    "collapsed": false
   },
   "source": [
    "\n",
    "answer = digits.target[n//2:]\n"
   ]
  },
  {
   "cell_type": "code",
   "execution_count": 35,
   "metadata": {
    "collapsed": false
   },
   "outputs": [],
   "source": [
    "def eval_model(model):\n",
    "#     metrics.confusion_matrix(answer,pred3)                   \n",
    "#     print(digits.target[n//2:])\n",
    "#     print(pred3)\n",
    "    prediction = model.predict(data[n//2:])\n",
    "    t = sum(1 for a,b in zip(answer,prediction) if a == b)*1.0/len(answer)  \n",
    "    print(t*1.0/1000)\n",
    "    print(\"Accuracy is %f%%\"  % t)\n",
    "\n",
    "\n"
   ]
  },
  {
   "cell_type": "code",
   "execution_count": 46,
   "metadata": {
    "collapsed": true
   },
   "outputs": [],
   "source": [
    "def print_confusion_matrix(answer,model):\n",
    "    prediction = model.predict(data[n//2:])\n",
    "    confusion_matrix = metrics.confusion_matrix(answer,prediction)\n",
    "    print(confusion_matrix)"
   ]
  },
  {
   "cell_type": "markdown",
   "metadata": {},
   "source": [
    "# evaluate knn model"
   ]
  },
  {
   "cell_type": "code",
   "execution_count": 37,
   "metadata": {
    "collapsed": false
   },
   "outputs": [
    {
     "name": "stdout",
     "output_type": "stream",
     "text": [
      "0.000954393770857\n",
      "Accuracy is 0.954394%\n"
     ]
    }
   ],
   "source": [
    "eval_model(knn_model)"
   ]
  },
  {
   "cell_type": "code",
   "execution_count": 47,
   "metadata": {
    "collapsed": false
   },
   "outputs": [
    {
     "name": "stdout",
     "output_type": "stream",
     "text": [
      "[[88  0  0  0  0  0  0  0  0  0]\n",
      " [ 0 88  1  0  0  0  0  0  1  1]\n",
      " [ 1  0 80  5  0  0  0  0  0  0]\n",
      " [ 0  0  1 82  0  1  0  3  3  1]\n",
      " [ 0  0  0  0 86  0  0  1  0  5]\n",
      " [ 0  0  0  0  0 89  1  0  0  1]\n",
      " [ 0  0  0  0  0  0 91  0  0  0]\n",
      " [ 0  0  0  0  0  0  0 89  0  0]\n",
      " [ 0  4  1  1  0  0  0  1 80  1]\n",
      " [ 0  0  0  4  0  2  0  0  1 85]]\n"
     ]
    }
   ],
   "source": [
    "print_confusion_matrix(answer,knn)"
   ]
  },
  {
   "cell_type": "markdown",
   "metadata": {},
   "source": [
    "# evaluate decision tree model"
   ]
  },
  {
   "cell_type": "code",
   "execution_count": 50,
   "metadata": {
    "collapsed": false
   },
   "outputs": [
    {
     "name": "stdout",
     "output_type": "stream",
     "text": [
      "0.000771968854283\n",
      "Accuracy is 0.771969%\n"
     ]
    }
   ],
   "source": [
    "eval_model(decision_tree_model)"
   ]
  },
  {
   "cell_type": "code",
   "execution_count": 51,
   "metadata": {
    "collapsed": false
   },
   "outputs": [
    {
     "name": "stdout",
     "output_type": "stream",
     "text": [
      "[[82  0  0  1  0  4  0  0  1  0]\n",
      " [ 0 58  4  8  3  1  1  0  9  7]\n",
      " [ 1  2 63  8  0  1  2  0  6  3]\n",
      " [ 0  3  0 68  0  4  0  4 10  2]\n",
      " [ 1  0  0  0 78  4  2  1  3  3]\n",
      " [ 0  2  0  0  0 68  1  0  3 17]\n",
      " [ 1  2  0  0  1  1 85  0  1  0]\n",
      " [ 0  1  0  6  2  8  0 69  2  1]\n",
      " [ 0  4  5  4  3 10  4  3 52  3]\n",
      " [ 0  1  0  3  0 13  0  0  4 71]]\n"
     ]
    }
   ],
   "source": [
    "print_confusion_matrix(answer,decision_tree)"
   ]
  },
  {
   "cell_type": "markdown",
   "metadata": {},
   "source": [
    "# evaluate logistic model"
   ]
  },
  {
   "cell_type": "code",
   "execution_count": 52,
   "metadata": {
    "collapsed": false
   },
   "outputs": [
    {
     "name": "stdout",
     "output_type": "stream",
     "text": [
      "0.000916573971079\n",
      "Accuracy is 0.916574%\n"
     ]
    }
   ],
   "source": [
    "eval_model(logistic_model)"
   ]
  },
  {
   "cell_type": "code",
   "execution_count": 53,
   "metadata": {
    "collapsed": false
   },
   "outputs": [
    {
     "name": "stdout",
     "output_type": "stream",
     "text": [
      "[[85  0  0  0  1  1  1  0  0  0]\n",
      " [ 0 81  0  1  0  0  1  0  2  6]\n",
      " [ 2  0 84  0  0  0  0  0  0  0]\n",
      " [ 0  1  0 75  0  6  0  2  5  2]\n",
      " [ 1  2  0  0 86  0  1  0  0  2]\n",
      " [ 0  3  0  0  0 82  2  0  0  4]\n",
      " [ 0  0  1  0  0  0 90  0  0  0]\n",
      " [ 0  1  0  0  0  5  0 79  1  3]\n",
      " [ 0  5  1  0  0  3  1  0 77  1]\n",
      " [ 2  1  0  0  0  2  0  0  2 85]]\n"
     ]
    }
   ],
   "source": [
    "print_confusion_matrix(answer,logistic)"
   ]
  },
  {
   "cell_type": "code",
   "execution_count": 367,
   "metadata": {
    "collapsed": false
   },
   "outputs": [
    {
     "data": {
      "image/png": "[encoded data removed]",
      "text/plain": [
       "<matplotlib.figure.Figure at 0xc638b00>"
      ]
     },
     "metadata": {},
     "output_type": "display_data"
    }
   ],
   "source": [
    "samples = list(zip(digits.images[n//2:],pred))\n",
    "for id,(img,label) in enumerate (samples[:15]):\n",
    "    plt.subplot(3,5,id + 1)\n",
    "    plt.axis(\"off\")\n",
    "    plt.imshow(img,cmap = plt.cm.gray_r, interpolation = 'nearest')\n",
    "    plt.title(\"Label %i\" %label)\n",
    "plt.show()"
   ]
  }
 ],
 "metadata": {
  "kernelspec": {
   "display_name": "Python 2",
   "language": "python",
   "name": "python2"
  },
  "language_info": {
   "codemirror_mode": {
    "name": "ipython",
    "version": 2
   },
   "file_extension": ".py",
   "mimetype": "text/x-python",
   "name": "python",
   "nbconvert_exporter": "python",
   "pygments_lexer": "ipython2",
   "version": "2.7.13"
  }
 },
 "nbformat": 4,
 "nbformat_minor": 2
}
